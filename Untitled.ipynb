{
 "cells": [
  {
   "cell_type": "code",
   "execution_count": 4,
   "id": "21d1126e",
   "metadata": {},
   "outputs": [
    {
     "name": "stdout",
     "output_type": "stream",
     "text": [
      "✅ Data cleaning complete. Returns column preserved. Cleaned file saved.\n"
     ]
    }
   ],
   "source": [
    "import pandas as pd\n",
    "\n",
    "# Load dataset and don't auto-convert '#N/A' to NaN\n",
    "df = pd.read_csv(\"SuperStore_Sales_Dataset.csv\", keep_default_na=False)\n",
    "\n",
    "# Convert date columns\n",
    "df['Order Date'] = pd.to_datetime(df['Order Date'], format='%d-%m-%Y', errors='coerce')\n",
    "df['Ship Date'] = pd.to_datetime(df['Ship Date'], format='%d-%m-%Y', errors='coerce')\n",
    "\n",
    "# Drop only rows with invalid Order/Ship dates\n",
    "df = df.dropna(subset=['Order Date', 'Ship Date'])\n",
    "\n",
    "# Save to cleaned file\n",
    "df.to_csv(\"SuperStore_Sales_Cleaned.csv\", index=False)\n",
    "\n",
    "print(\"✅ Data cleaning complete. Returns column preserved. Cleaned file saved.\")\n"
   ]
  },
  {
   "cell_type": "code",
   "execution_count": null,
   "id": "b7c41092",
   "metadata": {},
   "outputs": [],
   "source": []
  }
 ],
 "metadata": {
  "kernelspec": {
   "display_name": "Python 3.10 (py310env)",
   "language": "python",
   "name": "py310env"
  },
  "language_info": {
   "codemirror_mode": {
    "name": "ipython",
    "version": 3
   },
   "file_extension": ".py",
   "mimetype": "text/x-python",
   "name": "python",
   "nbconvert_exporter": "python",
   "pygments_lexer": "ipython3",
   "version": "3.10.0"
  }
 },
 "nbformat": 4,
 "nbformat_minor": 5
}
